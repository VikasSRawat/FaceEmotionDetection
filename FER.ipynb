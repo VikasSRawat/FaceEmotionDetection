{
 "cells": [
  {
   "cell_type": "code",
   "execution_count": 1,
   "id": "95fabd53",
   "metadata": {},
   "outputs": [],
   "source": [
    "import tensorflow as tf\n",
    "from tensorflow import keras\n",
    "from keras import Sequential\n",
    "from keras.layers.reshaping.flatten import Flatten\n",
    "from keras.layers import Dense,Conv2D,MaxPooling2D,Flatten,BatchNormalization,Dropout\n",
    "from keras.preprocessing.image import ImageDataGenerator "
   ]
  },
  {
   "cell_type": "code",
   "execution_count": 6,
   "id": "7f9346af",
   "metadata": {},
   "outputs": [],
   "source": [
    "train_data_gen = ImageDataGenerator(rescale=1./255,\n",
    "                                   rotation_range=40,\n",
    "                                   width_shift_range=0.2,\n",
    "                                   height_shift_range=0.2,\n",
    "                                   shear_range=0.2,\n",
    "                                   zoom_range=0.2,\n",
    "                                   horizontal_flip=True,\n",
    "                                   fill_mode='nearest')\n",
    "validation_data_gen = ImageDataGenerator(rescale=1./255,\n",
    "                                        rotation_range=40,\n",
    "                                        width_shift_range=0.2,\n",
    "                                        height_shift_range=0.2,\n",
    "                                        shear_range=0.2,\n",
    "                                        zoom_range=0.2,\n",
    "                                        horizontal_flip=True,\n",
    "                                        fill_mode='nearest')"
   ]
  },
  {
   "cell_type": "code",
   "execution_count": 7,
   "id": "eab9d618",
   "metadata": {},
   "outputs": [
    {
     "name": "stdout",
     "output_type": "stream",
     "text": [
      "Found 28821 images belonging to 7 classes.\n"
     ]
    }
   ],
   "source": [
    "train_generator=train_data_gen.flow_from_directory(\n",
    "    'images/train',\n",
    "    target_size=(48,48),\n",
    "    batch_size=64,\n",
    "    color_mode=\"grayscale\",\n",
    "    class_mode='categorical')"
   ]
  },
  {
   "cell_type": "code",
   "execution_count": 26,
   "id": "3a6fb9a6",
   "metadata": {},
   "outputs": [
    {
     "name": "stdout",
     "output_type": "stream",
     "text": [
      "Found 7066 images belonging to 7 classes.\n"
     ]
    }
   ],
   "source": [
    "validation_generator=validation_data_gen.flow_from_directory(\n",
    "    'images/validation',\n",
    "    target_size=(48,48),\n",
    "    batch_size=64,\n",
    "    color_mode=\"grayscale\",\n",
    "    class_mode='categorical')"
   ]
  },
  {
   "cell_type": "code",
   "execution_count": 27,
   "id": "4aa4ddd2",
   "metadata": {},
   "outputs": [],
   "source": [
    "from keras.optimizers import Adam"
   ]
  },
  {
   "cell_type": "code",
   "execution_count": 28,
   "id": "9f65ff7d",
   "metadata": {},
   "outputs": [],
   "source": [
    "model = Sequential()\n",
    "\n",
    "model.add(Conv2D(32,kernel_size = (3,3),padding='valid',activation='relu',input_shape=(48,48,1)))\n",
    "model.add(Conv2D(64,kernel_size = (3,3),padding='valid',activation='relu'))\n",
    "model.add(BatchNormalization())\n",
    "model.add(MaxPooling2D(pool_size=(2,2),padding='valid'))\n",
    "model.add(Dropout(0.25))\n",
    "\n",
    "model.add(Conv2D(128,kernel_size = (3,3),padding='valid',activation='relu'))\n",
    "model.add(MaxPooling2D(pool_size=(2,2)))\n",
    "model.add(Conv2D(128,kernel_size = (3,3),padding='valid',activation='relu'))\n",
    "model.add(BatchNormalization())\n",
    "model.add(MaxPooling2D(pool_size=(2,2),padding='valid'))\n",
    "model.add(Dropout(0.25))\n",
    "\n",
    "model.add(Flatten())\n",
    "model.add(Dense(1024,activation='relu'))\n",
    "model.add(Dropout(0.5))\n",
    "model.add(Dense(7,activation='softmax'))\n",
    "model.compile(loss='categorical_crossentropy',optimizer=Adam(learning_rate=0.0001,decay=1e-6),metrics=['Accuracy'])"
   ]
  },
  {
   "cell_type": "code",
   "execution_count": 29,
   "id": "05e0329e",
   "metadata": {},
   "outputs": [
    {
     "name": "stdout",
     "output_type": "stream",
     "text": [
      "Model: \"sequential_3\"\n",
      "_________________________________________________________________\n",
      " Layer (type)                Output Shape              Param #   \n",
      "=================================================================\n",
      " conv2d_12 (Conv2D)          (None, 46, 46, 32)        320       \n",
      "                                                                 \n",
      " conv2d_13 (Conv2D)          (None, 44, 44, 64)        18496     \n",
      "                                                                 \n",
      " batch_normalization_6 (Batc  (None, 44, 44, 64)       256       \n",
      " hNormalization)                                                 \n",
      "                                                                 \n",
      " max_pooling2d_9 (MaxPooling  (None, 22, 22, 64)       0         \n",
      " 2D)                                                             \n",
      "                                                                 \n",
      " dropout_9 (Dropout)         (None, 22, 22, 64)        0         \n",
      "                                                                 \n",
      " conv2d_14 (Conv2D)          (None, 20, 20, 128)       73856     \n",
      "                                                                 \n",
      " max_pooling2d_10 (MaxPoolin  (None, 10, 10, 128)      0         \n",
      " g2D)                                                            \n",
      "                                                                 \n",
      " conv2d_15 (Conv2D)          (None, 8, 8, 128)         147584    \n",
      "                                                                 \n",
      " batch_normalization_7 (Batc  (None, 8, 8, 128)        512       \n",
      " hNormalization)                                                 \n",
      "                                                                 \n",
      " max_pooling2d_11 (MaxPoolin  (None, 4, 4, 128)        0         \n",
      " g2D)                                                            \n",
      "                                                                 \n",
      " dropout_10 (Dropout)        (None, 4, 4, 128)         0         \n",
      "                                                                 \n",
      " flatten_3 (Flatten)         (None, 2048)              0         \n",
      "                                                                 \n",
      " dense_6 (Dense)             (None, 1024)              2098176   \n",
      "                                                                 \n",
      " dropout_11 (Dropout)        (None, 1024)              0         \n",
      "                                                                 \n",
      " dense_7 (Dense)             (None, 7)                 7175      \n",
      "                                                                 \n",
      "=================================================================\n",
      "Total params: 2,346,375\n",
      "Trainable params: 2,345,991\n",
      "Non-trainable params: 384\n",
      "_________________________________________________________________\n"
     ]
    }
   ],
   "source": [
    "model.summary()"
   ]
  },
  {
   "cell_type": "code",
   "execution_count": 31,
   "id": "af2bb5cf",
   "metadata": {
    "scrolled": false
   },
   "outputs": [
    {
     "name": "stderr",
     "output_type": "stream",
     "text": [
      "C:\\Users\\vikas\\AppData\\Local\\Temp\\ipykernel_27960\\576839271.py:1: UserWarning: `Model.fit_generator` is deprecated and will be removed in a future version. Please use `Model.fit`, which supports generators.\n",
      "  history = model.fit_generator(train_generator,\n"
     ]
    },
    {
     "name": "stdout",
     "output_type": "stream",
     "text": [
      "Epoch 1/50\n",
      "450/450 [==============================] - 1330s 3s/step - loss: 2.1506 - Accuracy: 0.2092 - val_loss: 2.2300 - val_Accuracy: 0.1807\n",
      "Epoch 2/50\n",
      "450/450 [==============================] - 439s 974ms/step - loss: 1.8396 - Accuracy: 0.2319 - val_loss: 1.7952 - val_Accuracy: 0.2626\n",
      "Epoch 3/50\n",
      "450/450 [==============================] - 335s 744ms/step - loss: 1.8070 - Accuracy: 0.2453 - val_loss: 1.8061 - val_Accuracy: 0.2592\n",
      "Epoch 4/50\n",
      "450/450 [==============================] - 418s 930ms/step - loss: 1.7916 - Accuracy: 0.2577 - val_loss: 1.8170 - val_Accuracy: 0.2690\n",
      "Epoch 5/50\n",
      "450/450 [==============================] - 332s 737ms/step - loss: 1.7819 - Accuracy: 0.2599 - val_loss: 1.7504 - val_Accuracy: 0.2916\n",
      "Epoch 6/50\n",
      "450/450 [==============================] - 331s 735ms/step - loss: 1.7733 - Accuracy: 0.2683 - val_loss: 2.0131 - val_Accuracy: 0.2714\n",
      "Epoch 7/50\n",
      "450/450 [==============================] - 334s 741ms/step - loss: 1.7574 - Accuracy: 0.2793 - val_loss: 1.7716 - val_Accuracy: 0.2736\n",
      "Epoch 8/50\n",
      "450/450 [==============================] - 297s 660ms/step - loss: 1.7456 - Accuracy: 0.2866 - val_loss: 1.7736 - val_Accuracy: 0.2881\n",
      "Epoch 9/50\n",
      "450/450 [==============================] - 281s 624ms/step - loss: 1.7336 - Accuracy: 0.2953 - val_loss: 1.7447 - val_Accuracy: 0.3108\n",
      "Epoch 10/50\n",
      "450/450 [==============================] - 288s 640ms/step - loss: 1.7162 - Accuracy: 0.3003 - val_loss: 1.7115 - val_Accuracy: 0.3088\n",
      "Epoch 11/50\n",
      "450/450 [==============================] - 279s 620ms/step - loss: 1.7079 - Accuracy: 0.3095 - val_loss: 1.6551 - val_Accuracy: 0.3425\n",
      "Epoch 12/50\n",
      "450/450 [==============================] - 289s 641ms/step - loss: 1.6748 - Accuracy: 0.3270 - val_loss: 1.7034 - val_Accuracy: 0.3456\n",
      "Epoch 13/50\n",
      "450/450 [==============================] - 280s 622ms/step - loss: 1.6612 - Accuracy: 0.3322 - val_loss: 1.6777 - val_Accuracy: 0.3345\n",
      "Epoch 14/50\n",
      "450/450 [==============================] - 279s 619ms/step - loss: 1.6482 - Accuracy: 0.3411 - val_loss: 1.6429 - val_Accuracy: 0.3709\n",
      "Epoch 15/50\n",
      "450/450 [==============================] - 283s 631ms/step - loss: 1.6295 - Accuracy: 0.3484 - val_loss: 1.5873 - val_Accuracy: 0.3812\n",
      "Epoch 16/50\n",
      "450/450 [==============================] - 282s 627ms/step - loss: 1.6135 - Accuracy: 0.3608 - val_loss: 1.6060 - val_Accuracy: 0.3886\n",
      "Epoch 17/50\n",
      "450/450 [==============================] - 277s 616ms/step - loss: 1.6005 - Accuracy: 0.3663 - val_loss: 1.5112 - val_Accuracy: 0.4209\n",
      "Epoch 18/50\n",
      "450/450 [==============================] - 278s 617ms/step - loss: 1.5817 - Accuracy: 0.3764 - val_loss: 1.5105 - val_Accuracy: 0.4135\n",
      "Epoch 19/50\n",
      "450/450 [==============================] - 278s 619ms/step - loss: 1.5650 - Accuracy: 0.3862 - val_loss: 1.5534 - val_Accuracy: 0.4074\n",
      "Epoch 20/50\n",
      "450/450 [==============================] - 279s 621ms/step - loss: 1.5553 - Accuracy: 0.3877 - val_loss: 1.5236 - val_Accuracy: 0.4151\n",
      "Epoch 21/50\n",
      "450/450 [==============================] - 277s 617ms/step - loss: 1.5357 - Accuracy: 0.4003 - val_loss: 1.5287 - val_Accuracy: 0.4118\n",
      "Epoch 22/50\n",
      "450/450 [==============================] - 274s 610ms/step - loss: 1.5223 - Accuracy: 0.4056 - val_loss: 1.4526 - val_Accuracy: 0.4327\n",
      "Epoch 23/50\n",
      "450/450 [==============================] - 281s 624ms/step - loss: 1.5121 - Accuracy: 0.4083 - val_loss: 1.4415 - val_Accuracy: 0.4479\n",
      "Epoch 24/50\n",
      "450/450 [==============================] - 278s 619ms/step - loss: 1.5038 - Accuracy: 0.4125 - val_loss: 1.4710 - val_Accuracy: 0.4364\n",
      "Epoch 25/50\n",
      "450/450 [==============================] - 278s 617ms/step - loss: 1.4889 - Accuracy: 0.4209 - val_loss: 1.4283 - val_Accuracy: 0.4482\n",
      "Epoch 26/50\n",
      "450/450 [==============================] - 278s 617ms/step - loss: 1.4748 - Accuracy: 0.4255 - val_loss: 1.4250 - val_Accuracy: 0.4541\n",
      "Epoch 27/50\n",
      "450/450 [==============================] - 277s 616ms/step - loss: 1.4671 - Accuracy: 0.4310 - val_loss: 1.4592 - val_Accuracy: 0.4409\n",
      "Epoch 28/50\n",
      "450/450 [==============================] - 275s 612ms/step - loss: 1.4556 - Accuracy: 0.4348 - val_loss: 1.4038 - val_Accuracy: 0.4629\n",
      "Epoch 29/50\n",
      "450/450 [==============================] - 277s 616ms/step - loss: 1.4478 - Accuracy: 0.4393 - val_loss: 1.3623 - val_Accuracy: 0.4812\n",
      "Epoch 30/50\n",
      "450/450 [==============================] - 275s 610ms/step - loss: 1.4387 - Accuracy: 0.4430 - val_loss: 1.3655 - val_Accuracy: 0.4795\n",
      "Epoch 31/50\n",
      "450/450 [==============================] - 275s 610ms/step - loss: 1.4337 - Accuracy: 0.4482 - val_loss: 1.3707 - val_Accuracy: 0.4774\n",
      "Epoch 32/50\n",
      "450/450 [==============================] - 280s 622ms/step - loss: 1.4161 - Accuracy: 0.4563 - val_loss: 1.3398 - val_Accuracy: 0.4903\n",
      "Epoch 33/50\n",
      "450/450 [==============================] - 278s 618ms/step - loss: 1.4096 - Accuracy: 0.4555 - val_loss: 1.3558 - val_Accuracy: 0.4864\n",
      "Epoch 34/50\n",
      "450/450 [==============================] - 275s 611ms/step - loss: 1.4014 - Accuracy: 0.4583 - val_loss: 1.3342 - val_Accuracy: 0.4885\n",
      "Epoch 35/50\n",
      "450/450 [==============================] - 276s 613ms/step - loss: 1.3945 - Accuracy: 0.4639 - val_loss: 1.3179 - val_Accuracy: 0.4936\n",
      "Epoch 36/50\n",
      "450/450 [==============================] - 279s 620ms/step - loss: 1.3842 - Accuracy: 0.4697 - val_loss: 1.3731 - val_Accuracy: 0.4763\n",
      "Epoch 37/50\n",
      "450/450 [==============================] - 277s 616ms/step - loss: 1.3762 - Accuracy: 0.4678 - val_loss: 1.2766 - val_Accuracy: 0.5178\n",
      "Epoch 38/50\n",
      "450/450 [==============================] - 281s 623ms/step - loss: 1.3725 - Accuracy: 0.4719 - val_loss: 1.3055 - val_Accuracy: 0.5010\n",
      "Epoch 39/50\n",
      "450/450 [==============================] - 278s 618ms/step - loss: 1.3618 - Accuracy: 0.4755 - val_loss: 1.3056 - val_Accuracy: 0.5001\n",
      "Epoch 40/50\n",
      "450/450 [==============================] - 276s 614ms/step - loss: 1.3568 - Accuracy: 0.4802 - val_loss: 1.3038 - val_Accuracy: 0.5036\n",
      "Epoch 41/50\n",
      "450/450 [==============================] - 278s 618ms/step - loss: 1.3485 - Accuracy: 0.4835 - val_loss: 1.2936 - val_Accuracy: 0.5132\n",
      "Epoch 42/50\n",
      "450/450 [==============================] - 280s 623ms/step - loss: 1.3358 - Accuracy: 0.4857 - val_loss: 1.2608 - val_Accuracy: 0.5197\n",
      "Epoch 43/50\n",
      "450/450 [==============================] - 274s 610ms/step - loss: 1.3294 - Accuracy: 0.4929 - val_loss: 1.3490 - val_Accuracy: 0.4905\n",
      "Epoch 44/50\n",
      "450/450 [==============================] - 275s 612ms/step - loss: 1.3333 - Accuracy: 0.4876 - val_loss: 1.2544 - val_Accuracy: 0.5207\n",
      "Epoch 45/50\n",
      "450/450 [==============================] - 277s 616ms/step - loss: 1.3306 - Accuracy: 0.4896 - val_loss: 1.2733 - val_Accuracy: 0.5188\n",
      "Epoch 46/50\n",
      "450/450 [==============================] - 279s 620ms/step - loss: 1.3167 - Accuracy: 0.4982 - val_loss: 1.2990 - val_Accuracy: 0.5070\n",
      "Epoch 47/50\n",
      "450/450 [==============================] - 276s 613ms/step - loss: 1.3182 - Accuracy: 0.4937 - val_loss: 1.2432 - val_Accuracy: 0.5288\n",
      "Epoch 48/50\n",
      "450/450 [==============================] - 275s 610ms/step - loss: 1.3087 - Accuracy: 0.4990 - val_loss: 1.2527 - val_Accuracy: 0.5217\n",
      "Epoch 49/50\n",
      "450/450 [==============================] - 279s 620ms/step - loss: 1.3042 - Accuracy: 0.5000 - val_loss: 1.2646 - val_Accuracy: 0.5182\n",
      "Epoch 50/50\n",
      "450/450 [==============================] - 275s 612ms/step - loss: 1.3003 - Accuracy: 0.5018 - val_loss: 1.2262 - val_Accuracy: 0.5359\n"
     ]
    }
   ],
   "source": [
    "history = model.fit_generator(train_generator,\n",
    "                              steps_per_epoch=28821//64,\n",
    "                              epochs=50,\n",
    "                              validation_data=validation_generator,\n",
    "                              validation_steps=110)"
   ]
  },
  {
   "cell_type": "code",
   "execution_count": 33,
   "id": "c60a7276",
   "metadata": {},
   "outputs": [
    {
     "name": "stdout",
     "output_type": "stream",
     "text": [
      "hello world\n"
     ]
    }
   ],
   "source": [
    "print('hello world')"
   ]
  },
  {
   "cell_type": "code",
   "execution_count": 35,
   "id": "7d87a5cb",
   "metadata": {},
   "outputs": [],
   "source": [
    "model_json=model.to_json()# Storing the model structure in a json file\n",
    "with open(\"fer_model.json\",\"w\") as json_file:\n",
    "    json_file.write(model_json)"
   ]
  },
  {
   "cell_type": "code",
   "execution_count": 36,
   "id": "85975778",
   "metadata": {},
   "outputs": [],
   "source": [
    "model.save_weights('final_model.h5')"
   ]
  },
  {
   "cell_type": "code",
   "execution_count": null,
   "id": "1a64e5ce",
   "metadata": {},
   "outputs": [],
   "source": []
  }
 ],
 "metadata": {
  "kernelspec": {
   "display_name": "Python 3 (ipykernel)",
   "language": "python",
   "name": "python3"
  },
  "language_info": {
   "codemirror_mode": {
    "name": "ipython",
    "version": 3
   },
   "file_extension": ".py",
   "mimetype": "text/x-python",
   "name": "python",
   "nbconvert_exporter": "python",
   "pygments_lexer": "ipython3",
   "version": "3.10.5"
  }
 },
 "nbformat": 4,
 "nbformat_minor": 5
}
